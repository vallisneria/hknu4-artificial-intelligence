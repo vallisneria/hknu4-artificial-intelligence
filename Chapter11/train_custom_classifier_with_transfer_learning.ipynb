{
 "nbformat": 4,
 "nbformat_minor": 0,
 "metadata": {
  "colab": {
   "name": "train_custom_classifier_with_transfer_learning.ipynb",
   "provenance": [],
   "collapsed_sections": []
  },
  "kernelspec": {
   "name": "python3",
   "display_name": "Python 3"
  },
  "language_info": {
   "name": "python"
  }
 },
 "cells": [
  {
   "cell_type": "markdown",
   "metadata": {
    "id": "Ydtf1It6h5An"
   },
   "source": [
    "## 준비"
   ]
  },
  {
   "cell_type": "code",
   "metadata": {
    "id": "Dm2Rr5y3NNLa"
   },
   "source": [
    "import math\n",
    "import numpy as np\n",
    "import tensorflow as tf\n",
    "from tensorflow import keras\n",
    "from keras.preprocessing.image import ImageDataGenerator\n",
    "from keras.models import Model\n",
    "from keras.applications.mobilenet_v2 import MobileNetV2, preprocess_input"
   ],
   "execution_count": 1,
   "outputs": []
  },
  {
   "cell_type": "code",
   "metadata": {
    "id": "cKm_c93PeiuO"
   },
   "source": [
    "# Jupyter notebook 경고 메시지 숨기기\n",
    "from warnings import filterwarnings\n",
    "filterwarnings(action=\"ignore\")"
   ],
   "execution_count": 2,
   "outputs": []
  },
  {
   "cell_type": "markdown",
   "metadata": {
    "id": "zx57517Oh7OY"
   },
   "source": [
    "## 모델 정의"
   ]
  },
  {
   "cell_type": "code",
   "metadata": {
    "id": "SoekKtG3Nw5y"
   },
   "source": [
    "TRAIN_DATA_DIR = \"drive/MyDrive/data/train/\"\n",
    "VAL_DATA_DIR = \"drive/MyDrive/data/val/\"\n",
    "TRAIN_SAMPLES = 500\n",
    "VAL_SAMPLES = 500\n",
    "NUM_CLASSES = 2\n",
    "IMG_WIDTH, IMG_HEIGHT = 224, 224\n",
    "BATCH_SIZE = 64"
   ],
   "execution_count": 3,
   "outputs": []
  },
  {
   "cell_type": "code",
   "metadata": {
    "id": "j57e8e8-OZLQ"
   },
   "source": [
    "train_datagen = ImageDataGenerator(\n",
    "    preprocessing_function=preprocess_input,\n",
    "    rotation_range=20,\n",
    "    width_shift_range=0.2,\n",
    "    height_shift_range=0.2,\n",
    "    zoom_range=0.2\n",
    ")\n",
    "\n",
    "val_datagen = ImageDataGenerator(preprocessing_function=preprocess_input)"
   ],
   "execution_count": 4,
   "outputs": []
  },
  {
   "cell_type": "code",
   "metadata": {
    "colab": {
     "base_uri": "https://localhost:8080/"
    },
    "id": "p8unHRoZOufD",
    "outputId": "1f238a23-717c-4799-f1c3-16a5ab19c9da"
   },
   "source": [
    "train_generator = train_datagen.flow_from_directory(\n",
    "    TRAIN_DATA_DIR,\n",
    "    target_size=(IMG_WIDTH, IMG_HEIGHT),\n",
    "    batch_size=BATCH_SIZE,\n",
    "    shuffle=True,\n",
    "    class_mode=\"categorical\"\n",
    ")"
   ],
   "execution_count": 5,
   "outputs": [
    {
     "output_type": "stream",
     "text": [
      "Found 500 images belonging to 2 classes.\n"
     ],
     "name": "stdout"
    }
   ]
  },
  {
   "cell_type": "code",
   "metadata": {
    "colab": {
     "base_uri": "https://localhost:8080/"
    },
    "id": "LIMSlwO2PEnn",
    "outputId": "ab0fc71a-c1e7-44bc-c836-0061bb8abd74"
   },
   "source": [
    "val_generator = val_datagen.flow_from_directory(\n",
    "    VAL_DATA_DIR,\n",
    "    target_size=(IMG_WIDTH, IMG_HEIGHT),\n",
    "    batch_size=BATCH_SIZE,\n",
    "    shuffle=False,\n",
    "    class_mode=\"categorical\"\n",
    ")"
   ],
   "execution_count": 6,
   "outputs": [
    {
     "output_type": "stream",
     "text": [
      "Found 500 images belonging to 2 classes.\n"
     ],
     "name": "stdout"
    }
   ]
  },
  {
   "cell_type": "code",
   "metadata": {
    "id": "iQS4KrPRPO3s"
   },
   "source": [
    "def model_maker():\n",
    "    base_model = MobileNetV2(include_top=False, input_shape=(IMG_WIDTH, IMG_HEIGHT, 3))\n",
    "\n",
    "    for layer in base_model.layers:\n",
    "        layer.trainable = False\n",
    "    \n",
    "    input = keras.layers.Input(shape=(IMG_WIDTH, IMG_HEIGHT, 3))\n",
    "    custom_model = base_model(input)\n",
    "    custom_model = keras.layers.GlobalAveragePooling2D()(custom_model)\n",
    "    custom_model = keras.layers.Dense(64, activation=\"relu\")(custom_model)\n",
    "    custom_model = keras.layers.Dropout(0.5)(custom_model)\n",
    "    predictions = keras.layers.Dense(NUM_CLASSES, activation=\"softmax\")(custom_model)\n",
    "    return keras.models.Model(inputs=input, outputs=predictions)"
   ],
   "execution_count": 7,
   "outputs": []
  },
  {
   "cell_type": "code",
   "metadata": {
    "id": "hSIArkpXQKfn"
   },
   "source": [
    "model = model_maker()\n",
    "model.compile(loss=\"categorical_crossentropy\", optimizer=keras.optimizers.Adam(lr=1e-3), metrics=[\"acc\"])\n",
    "num_steps = math.ceil(float(TRAIN_SAMPLES) / BATCH_SIZE)"
   ],
   "execution_count": null,
   "outputs": []
  },
  {
   "cell_type": "code",
   "metadata": {
    "colab": {
     "base_uri": "https://localhost:8080/"
    },
    "id": "81Q1w7qYQdnB",
    "outputId": "e9032e9e-41a3-4b8d-ec1a-c33ab9d920f7"
   },
   "source": [
    "history = model.fit_generator(\n",
    "    generator=train_generator,\n",
    "    steps_per_epoch=num_steps,\n",
    "    epochs=10,\n",
    "    validation_data=val_generator,\n",
    "    validation_steps=num_steps\n",
    ")"
   ],
   "execution_count": 9,
   "outputs": [
    {
     "output_type": "stream",
     "text": [
      "Epoch 1/10\n",
      "8/8 [==============================] - 293s 39s/step - loss: 0.4926 - acc: 0.7720 - val_loss: 0.1140 - val_acc: 0.9600\n",
      "Epoch 2/10\n",
      "8/8 [==============================] - 36s 5s/step - loss: 0.1494 - acc: 0.9420 - val_loss: 0.0556 - val_acc: 0.9740\n",
      "Epoch 3/10\n",
      "8/8 [==============================] - 36s 5s/step - loss: 0.1472 - acc: 0.9500 - val_loss: 0.0486 - val_acc: 0.9840\n",
      "Epoch 4/10\n",
      "8/8 [==============================] - 26s 3s/step - loss: 0.0863 - acc: 0.9680 - val_loss: 0.0456 - val_acc: 0.9820\n",
      "Epoch 5/10\n",
      "8/8 [==============================] - 27s 3s/step - loss: 0.0653 - acc: 0.9800 - val_loss: 0.0526 - val_acc: 0.9840\n",
      "Epoch 6/10\n",
      "8/8 [==============================] - 27s 3s/step - loss: 0.0741 - acc: 0.9740 - val_loss: 0.0451 - val_acc: 0.9820\n",
      "Epoch 7/10\n",
      "8/8 [==============================] - 26s 3s/step - loss: 0.0748 - acc: 0.9680 - val_loss: 0.0588 - val_acc: 0.9820\n",
      "Epoch 8/10\n",
      "8/8 [==============================] - 27s 4s/step - loss: 0.0628 - acc: 0.9780 - val_loss: 0.0463 - val_acc: 0.9840\n",
      "Epoch 9/10\n",
      "8/8 [==============================] - 27s 4s/step - loss: 0.0483 - acc: 0.9840 - val_loss: 0.0579 - val_acc: 0.9820\n",
      "Epoch 10/10\n",
      "8/8 [==============================] - 27s 4s/step - loss: 0.0546 - acc: 0.9820 - val_loss: 0.0473 - val_acc: 0.9820\n"
     ],
     "name": "stdout"
    }
   ]
  },
  {
   "cell_type": "markdown",
   "metadata": {
    "id": "Otu1YUFeTq1f"
   },
   "source": [
    "## 샘플 이미지 로딩 후 결과 보기"
   ]
  },
  {
   "cell_type": "code",
   "metadata": {
    "id": "TR9U4YJFT6qH"
   },
   "source": [
    "def preprocess_img(img_path):\n",
    "    img = keras.preprocessing.image.load_img(img_path, target_size=(224, 224))\n",
    "    img_array = keras.preprocessing.image.img_to_array(img)\n",
    "    expanded_img_array = np.expand_dims(img_array, axis=0)\n",
    "    preprocessed_img = expanded_img_array / 255.0\n",
    "    return preprocessed_img"
   ],
   "execution_count": 10,
   "outputs": []
  },
  {
   "cell_type": "code",
   "metadata": {
    "id": "ik_Hpy56RDnE",
    "colab": {
     "base_uri": "https://localhost:8080/"
    },
    "outputId": "804d7f3e-92d8-4cdc-e9d6-49605b6a902f"
   },
   "source": [
    "dog_img = preprocess_img(\"drive/MyDrive/data/sample-images/dog.jpg\")\n",
    "model.predict(dog_img)"
   ],
   "execution_count": 11,
   "outputs": [
    {
     "output_type": "execute_result",
     "data": {
      "text/plain": [
       "array([[0.00150615, 0.9984938 ]], dtype=float32)"
      ]
     },
     "metadata": {
      "tags": []
     },
     "execution_count": 11
    }
   ]
  },
  {
   "cell_type": "code",
   "metadata": {
    "id": "d-cc2-kMUhxA",
    "colab": {
     "base_uri": "https://localhost:8080/"
    },
    "outputId": "6dbc6885-f8cd-4d06-f991-31cdf67a8496"
   },
   "source": [
    "cat_img = preprocess_img(\"drive/MyDrive/data/sample-images/cat.jpg\")\n",
    "model.predict(cat_img)"
   ],
   "execution_count": 12,
   "outputs": [
    {
     "output_type": "execute_result",
     "data": {
      "text/plain": [
       "array([[9.9996734e-01, 3.2649947e-05]], dtype=float32)"
      ]
     },
     "metadata": {
      "tags": []
     },
     "execution_count": 12
    }
   ]
  }
 ]
}