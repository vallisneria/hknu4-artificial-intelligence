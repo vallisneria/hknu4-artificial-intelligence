{
 "cells": [
  {
   "cell_type": "markdown",
   "metadata": {
    "collapsed": true,
    "pycharm": {
     "name": "#%% md\n"
    }
   },
   "source": [
    "# 10. 인공 신경망 소개\n",
    "## 10.1 생물학적 뉴런에서 인공 뉴런까지\n",
    "인공 신경망은 1943년 신경생리학자 워런 매컬러와 수학자 윌터 필츠가 처음 소개했다.\n",
    "그 후 침체기를 겪었다가 최근에 들어 또 다른 부흥이 시작되었다.\n",
    "\n",
    "- 신경망을 훈련하기 위한 데이터가 많아짐\n",
    "- 하드웨어가 크게 발전함\n",
    "- 훈련 알고리즘이 향상됨\n",
    "- 기타 등등\n",
    "\n",
    "### 10.1.1 생물학적 뉴런\n",
    "### 10.1.2 뉴런을 사용한 논리 연산\n",
    "### 10.1.3 퍼셉트론\n",
    "퍼셉트론은 간단한 인공 신경망 구조 중 하나로, 1597년 프랑크 로젠블라트가 제안했다.\n",
    "입력과 출력이 어떤 숫자이고, 각각의 입력 연결은 가중치와 연관되어 있다.\n",
    "입력의 가중치 합을 계산한 후 계단함수를 적용하여 결과를 출력한다.\n",
    "\n",
    "사이킷런에서는 하나의 TLU 네트워크를 구현한 `Perceptron` 클래스를 제공한다. 여기에 붓꽃 데이터를 사용해 보자."
   ]
  },
  {
   "cell_type": "code",
   "execution_count": 4,
   "outputs": [
    {
     "data": {
      "text/plain": "array([0], dtype=int8)"
     },
     "execution_count": 4,
     "metadata": {},
     "output_type": "execute_result"
    }
   ],
   "source": [
    "import numpy as np\n",
    "from sklearn.datasets import load_iris\n",
    "from sklearn.linear_model import Perceptron\n",
    "\n",
    "iris = load_iris()\n",
    "X = iris.data[:, (2, 3)]\n",
    "y = (iris.target == 0).astype(np.int8)\n",
    "\n",
    "per_clf = Perceptron()\n",
    "per_clf.fit(X, y)\n",
    "\n",
    "per_clf.predict([[2, 0.5]])"
   ],
   "metadata": {
    "collapsed": false,
    "pycharm": {
     "name": "#%%\n"
    }
   }
  },
  {
   "cell_type": "code",
   "execution_count": null,
   "outputs": [],
   "source": [],
   "metadata": {
    "collapsed": false,
    "pycharm": {
     "name": "#%%\n"
    }
   }
  }
 ],
 "metadata": {
  "kernelspec": {
   "display_name": "Python 3",
   "language": "python",
   "name": "python3"
  },
  "language_info": {
   "codemirror_mode": {
    "name": "ipython",
    "version": 2
   },
   "file_extension": ".py",
   "mimetype": "text/x-python",
   "name": "python",
   "nbconvert_exporter": "python",
   "pygments_lexer": "ipython2",
   "version": "2.7.6"
  }
 },
 "nbformat": 4,
 "nbformat_minor": 0
}