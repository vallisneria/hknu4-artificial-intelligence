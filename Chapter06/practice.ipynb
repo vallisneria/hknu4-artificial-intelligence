{
 "cells": [
  {
   "cell_type": "markdown",
   "metadata": {
    "collapsed": true,
    "pycharm": {
     "name": "#%% md\n"
    }
   },
   "source": [
    "# 실습과제 9-2\n",
    "(교재 연습문제 6-7)\n",
    "\n",
    "## 문제\n",
    "다음 단계에 따라 `moons` 데이터셋에 결정 트리를 훈련시키고 세밀하게 튜닝해보세요\n",
    "\n",
    "1. `make_moons(n_samples=1000, noise=0.4)`를 사용해 데이터셋을 생성합니다.\n",
    "2. 이를 `train_test_split()`을 사용해 휸련 세트와 테스트 세트로 나눕니다.\n",
    "3. `DecisionTreeClassifier`의 최적의 매개변수를 찾기 위해 교차 검증과 함께 그리드 탐색을 수행합니다(`GridSearchCV`를 사용하면 됩니다).\n",
    "4. 찾은 매개변수를 사용해 전체 훈련 세트에 대해 모델을 훈련시키고 테스트 세트에서 성능을 측정합니다.\n",
    "대략 85~87% 정도의 정확도가 나올 것입니다.\n",
    "\n",
    "## 풀이"
   ]
  }
 ],
 "metadata": {
  "kernelspec": {
   "display_name": "Python 3",
   "language": "python",
   "name": "python3"
  },
  "language_info": {
   "codemirror_mode": {
    "name": "ipython",
    "version": 2
   },
   "file_extension": ".py",
   "mimetype": "text/x-python",
   "name": "python",
   "nbconvert_exporter": "python",
   "pygments_lexer": "ipython2",
   "version": "2.7.6"
  }
 },
 "nbformat": 4,
 "nbformat_minor": 0
}